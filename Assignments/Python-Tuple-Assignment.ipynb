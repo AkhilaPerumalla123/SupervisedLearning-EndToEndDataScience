{
 "cells": [
  {
   "cell_type": "code",
   "execution_count": 1,
   "metadata": {},
   "outputs": [],
   "source": [
    "# However, the cost of 1 kg apple is Rs.220, 1 kg of sugar is Rs.43, 1 Kg of rice is Rs. 45, \n",
    "# 1 litre of milk is Rs.30 and 1 dozen of egg is Rs. 60.\n",
    "prices = (220,43,45,30,60)"
   ]
  },
  {
   "cell_type": "code",
   "execution_count": 2,
   "metadata": {},
   "outputs": [
    {
     "name": "stdout",
     "output_type": "stream",
     "text": [
      "Minimum is :  30 \n",
      "Maximum is :  220\n"
     ]
    }
   ],
   "source": [
    "# print Minimum and Maximum price in the above tuple\n",
    "print(\"Minimum is : \",min(prices),\"\\nMaximum is : \",max(prices))"
   ]
  },
  {
   "cell_type": "code",
   "execution_count": 3,
   "metadata": {},
   "outputs": [
    {
     "name": "stdout",
     "output_type": "stream",
     "text": [
      "('Amazon', 'Facebook', 'HiSilicon', 'Google', 'Apple', 'Microsoft', 'SenseTime')\n"
     ]
    }
   ],
   "source": [
    "# converting the list to a tuple\n",
    "AI_companies = [\"Amazon\", \"Facebook\", \"HiSilicon\", \"Google\", \"Apple\", \"Microsoft\", \"SenseTime\"]\n",
    "AI_companies_tuple = tuple(AI_companies)\n",
    "print(AI_companies_tuple)"
   ]
  },
  {
   "cell_type": "code",
   "execution_count": 4,
   "metadata": {},
   "outputs": [
    {
     "name": "stdout",
     "output_type": "stream",
     "text": [
      "(220, 43, 45, 30, 60, 'Amazon', 'Facebook', 'HiSilicon', 'Google', 'Apple', 'Microsoft', 'SenseTime')\n"
     ]
    }
   ],
   "source": [
    "# Combine above 2 tuples\n",
    "new_tuple =prices+AI_companies_tuple\n",
    "print(new_tuple)"
   ]
  },
  {
   "cell_type": "code",
   "execution_count": 5,
   "metadata": {},
   "outputs": [
    {
     "name": "stdout",
     "output_type": "stream",
     "text": [
      "False\n"
     ]
    }
   ],
   "source": [
    "# compare lengths of 2 tuples\n",
    "print(len(prices) > len(AI_companies_tuple))"
   ]
  },
  {
   "cell_type": "code",
   "execution_count": null,
   "metadata": {},
   "outputs": [],
   "source": []
  }
 ],
 "metadata": {
  "kernelspec": {
   "display_name": "Python 3",
   "language": "python",
   "name": "python3"
  },
  "language_info": {
   "codemirror_mode": {
    "name": "ipython",
    "version": 3
   },
   "file_extension": ".py",
   "mimetype": "text/x-python",
   "name": "python",
   "nbconvert_exporter": "python",
   "pygments_lexer": "ipython3",
   "version": "3.7.6"
  }
 },
 "nbformat": 4,
 "nbformat_minor": 4
}
