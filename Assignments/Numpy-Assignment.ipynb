{
 "cells": [
  {
   "cell_type": "code",
   "execution_count": 1,
   "metadata": {},
   "outputs": [
    {
     "name": "stdout",
     "output_type": "stream",
     "text": [
      "[0 1 2 3 4 5 6 7 8 9]\n"
     ]
    }
   ],
   "source": [
    "import numpy as np\n",
    "\n",
    "#1. Create a 1D array of numbers from 0 to 9.\n",
    "\n",
    "arr = np.array(range(10))\n",
    "print(arr)\n"
   ]
  },
  {
   "cell_type": "code",
   "execution_count": 2,
   "metadata": {},
   "outputs": [
    {
     "name": "stdout",
     "output_type": "stream",
     "text": [
      "[[ True  True  True]\n",
      " [ True  True  True]\n",
      " [ True  True  True]]\n"
     ]
    }
   ],
   "source": [
    "#2. Create a 3×3 numpy array of all True’s\n",
    "\n",
    "arr1 = np.ones((3,3),dtype=bool)\n",
    "print(arr1)"
   ]
  },
  {
   "cell_type": "code",
   "execution_count": 3,
   "metadata": {},
   "outputs": [
    {
     "name": "stdout",
     "output_type": "stream",
     "text": [
      "Original:\n",
      " [[ 0  1  2  3]\n",
      " [ 4  5  6  7]\n",
      " [ 8  9 10 11]]\n",
      "Odd:\n",
      " [ 1  3  5  7  9 11]\n"
     ]
    }
   ],
   "source": [
    "# print only odd elements from the numpy array\n",
    "\n",
    "k = np.array(range(12)).reshape(3,4)\n",
    "print(\"Original:\\n\",k)\n",
    "odd = k[k%2 !=0 ]\n",
    "print(\"Odd:\\n\",odd)"
   ]
  },
  {
   "cell_type": "code",
   "execution_count": 4,
   "metadata": {},
   "outputs": [
    {
     "name": "stdout",
     "output_type": "stream",
     "text": [
      "Original:\n",
      " [[12 15 18 21]\n",
      " [24 27 30 33]\n",
      " [36 39 42 45]]\n",
      "Odd replaced with -2:\n",
      " [[12 -2 18 -2]\n",
      " [24 -2 30 -2]\n",
      " [36 -2 42 -2]]\n"
     ]
    }
   ],
   "source": [
    "# Replace all odd numbers in arr with -2\n",
    "\n",
    "\n",
    "k = np.array(range(12,48,3)).reshape(3,4)\n",
    "print(\"Original:\\n\",k)\n",
    "\n",
    "\n",
    "k[ k%2 == 1] = -2 \n",
    "print(\"Odd replaced with -2:\\n\",k)"
   ]
  },
  {
   "cell_type": "code",
   "execution_count": 5,
   "metadata": {},
   "outputs": [
    {
     "name": "stdout",
     "output_type": "stream",
     "text": [
      " Original:\n",
      " [ 0  1  2  3  4  5  6  7  8  9 10 11 12 13 14 15 16 17 18 19]\n",
      " Reshape 5,4:\n",
      " [[ 0  1  2  3]\n",
      " [ 4  5  6  7]\n",
      " [ 8  9 10 11]\n",
      " [12 13 14 15]\n",
      " [16 17 18 19]]\n",
      " Reshape 2,10:\n",
      " [[ 0  1  2  3  4  5  6  7  8  9]\n",
      " [10 11 12 13 14 15 16 17 18 19]]\n"
     ]
    }
   ],
   "source": [
    "# How to reshape an array?\n",
    "\n",
    "arr = np.array(range(20))\n",
    "print(\" Original:\\n\",arr)\n",
    "\n",
    "print(\" Reshape 5,4:\\n\",arr.reshape(5,4))\n",
    "print(\" Reshape 2,10:\\n\",arr.reshape(2,10))"
   ]
  },
  {
   "cell_type": "code",
   "execution_count": 6,
   "metadata": {},
   "outputs": [
    {
     "name": "stdout",
     "output_type": "stream",
     "text": [
      "[[ 0  1  2  3  4  5  6  7  8  9]\n",
      " [10 11 12 13 14 15 16 17 18 19]]\n"
     ]
    }
   ],
   "source": [
    "# Convert a 1D array to a 2D array with 2 rows\n",
    "arr =np.array(range(20))\n",
    "arr_2d = np.reshape(arr, (2, -1))\n",
    "print(arr_2d)"
   ]
  },
  {
   "cell_type": "code",
   "execution_count": 7,
   "metadata": {},
   "outputs": [
    {
     "name": "stdout",
     "output_type": "stream",
     "text": [
      "[1 3 4 5 7 8 9]\n"
     ]
    }
   ],
   "source": [
    "# Given an array  a  = [1,2,3,4,5,6,7,8,9] , create  new array b from a such that b includes all odd numbers and 4 multiples. \n",
    "\n",
    "a = np.array([1,2,3,4,5,6,7,8,9])\n",
    "b = a[(a % 2 == 1) | (a % 4 == 0)] \n",
    "print(b)"
   ]
  },
  {
   "cell_type": "code",
   "execution_count": 8,
   "metadata": {},
   "outputs": [
    {
     "name": "stdout",
     "output_type": "stream",
     "text": [
      "[None None]\n"
     ]
    }
   ],
   "source": [
    "# Given array, check if there are any null values and print them out. \n",
    "a = np.array([1,2,None,4,5,6,None,8,9])\n",
    "b = a[a == None] \n",
    "print(b)\n"
   ]
  },
  {
   "cell_type": "code",
   "execution_count": 9,
   "metadata": {},
   "outputs": [
    {
     "name": "stdout",
     "output_type": "stream",
     "text": [
      "[1 2 0 4 5 6 0 8 9]\n"
     ]
    }
   ],
   "source": [
    "# 9. How to replace all missing values with 0 in a numpy array?\n",
    "\n",
    "a = np.array([1,2,None,4,5,6,None,8,9])\n",
    "a[a == None] = 0 \n",
    "print(a)"
   ]
  },
  {
   "cell_type": "code",
   "execution_count": 10,
   "metadata": {},
   "outputs": [
    {
     "name": "stdout",
     "output_type": "stream",
     "text": [
      "{1: 3, 2: 1, 3: 2, 5: 3, 7: 1, 9: 1, 32: 1}\n"
     ]
    }
   ],
   "source": [
    "# How to find the count of each unique number in a NumPy array?\n",
    "\n",
    "a = np.array([1,2,3,1,5,5,1,3,32,7,5,9])\n",
    "(unique,count) = np.unique(a,return_counts=True)\n",
    "\n",
    "frequency = dict()\n",
    "for i in range(len(unique)):\n",
    "    frequency.update({unique[i]:count[i]})\n",
    "\n",
    "print(frequency)\n",
    "\n"
   ]
  },
  {
   "cell_type": "code",
   "execution_count": 11,
   "metadata": {},
   "outputs": [
    {
     "name": "stdout",
     "output_type": "stream",
     "text": [
      "[0 1 2 3 4 5 6 7 8 9] int32\n",
      "['0', '1', '2', '3', '4', '5', '6', '7', '8', '9']\n",
      "--------------------------------------------------\n",
      "[0 1 2 3 4 5 6 7 8 9] int32\n",
      "['0', '1', '2', '3', '4', '5', '6', '7', '8', '9']\n"
     ]
    }
   ],
   "source": [
    "# 11. How to convert a numeric to a categorical (text) array?\n",
    "\n",
    "a = np.array(range(10))\n",
    "print(a,a.dtype)\n",
    "\n",
    "#first way is to convert to map and then to list\n",
    "\n",
    "a = map(str, a)\n",
    "print(list(a))\n",
    "\n",
    "print(\"-\"*50)\n",
    "#second way is using list comprehension\n",
    "\n",
    "a = np.array(range(10))\n",
    "print(a,a.dtype)\n",
    "\n",
    "a = [str(i) for i in a ]\n",
    "print(list(a))\n"
   ]
  },
  {
   "cell_type": "code",
   "execution_count": 12,
   "metadata": {},
   "outputs": [],
   "source": [
    "# 12. Write a program to print all numbers between 99 and 299 which are either divisible by 5 or 7. Exclude the elements which are divisible by both.\n",
    "\n",
    "a = np.array(range(100,299))\n",
    "a = a[((a% 5 ==0) & (a%7 != 0)) | ((a% 5 !=0) & (a%7 == 0))]"
   ]
  },
  {
   "cell_type": "code",
   "execution_count": 13,
   "metadata": {},
   "outputs": [
    {
     "name": "stdout",
     "output_type": "stream",
     "text": [
      "[9 8 7 6 5 4 3 2 1 0]\n",
      "--------------------\n",
      "[9 8 7 6 5 4 3 2 1 0]\n",
      "--------------------\n",
      "[9 8 7 6 5 4 3 2 1 0]\n"
     ]
    }
   ],
   "source": [
    "# 13. Write a program to reverse an array and print (Don’t use inbuilt reverse functions)\n",
    "\n",
    "a = np.array(range(10))\n",
    "\n",
    "# using inbuilt function flip of numpy\n",
    "print(np.flip(a))\n",
    "\n",
    "print(\"-\"*20)\n",
    "\n",
    "# using slicing\n",
    "print(a[::-1])\n",
    "\n",
    "print(\"-\"*20)\n",
    "\n",
    "# using for loop\n",
    "for i in range(int(len(a)/2)):\n",
    "    a[i],a[-i-1] = a[-i-1],a[i]\n",
    "print(a)\n"
   ]
  }
 ],
 "metadata": {
  "kernelspec": {
   "display_name": "Python 3",
   "language": "python",
   "name": "python3"
  },
  "language_info": {
   "codemirror_mode": {
    "name": "ipython",
    "version": 3
   },
   "file_extension": ".py",
   "mimetype": "text/x-python",
   "name": "python",
   "nbconvert_exporter": "python",
   "pygments_lexer": "ipython3",
   "version": "3.7.6"
  }
 },
 "nbformat": 4,
 "nbformat_minor": 4
}
