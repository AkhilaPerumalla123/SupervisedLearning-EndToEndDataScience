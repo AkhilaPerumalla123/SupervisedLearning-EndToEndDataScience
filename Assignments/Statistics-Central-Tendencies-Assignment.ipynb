{
 "cells": [
  {
   "cell_type": "code",
   "execution_count": 8,
   "metadata": {},
   "outputs": [],
   "source": [
    "import numpy as np"
   ]
  },
  {
   "cell_type": "code",
   "execution_count": 9,
   "metadata": {},
   "outputs": [
    {
     "data": {
      "text/plain": [
       "7.0"
      ]
     },
     "execution_count": 9,
     "metadata": {},
     "output_type": "execute_result"
    }
   ],
   "source": [
    "a = np.array([9,7,11,13,2,4,5,5])\n",
    "np.mean(a)"
   ]
  },
  {
   "cell_type": "code",
   "execution_count": 10,
   "metadata": {},
   "outputs": [
    {
     "data": {
      "text/plain": [
       "8.5"
      ]
     },
     "execution_count": 10,
     "metadata": {},
     "output_type": "execute_result"
    }
   ],
   "source": [
    "b = np.array([2.2, 10.2, 14.7, 5.9, 4.9, 11.1, 10.5])\n",
    "np.mean(b)"
   ]
  },
  {
   "cell_type": "code",
   "execution_count": 11,
   "metadata": {},
   "outputs": [
    {
     "data": {
      "text/plain": [
       "11.4"
      ]
     },
     "execution_count": 11,
     "metadata": {},
     "output_type": "execute_result"
    }
   ],
   "source": [
    "c = np.array([11/4, 21/2, 51/2, 31/4, 21/2])\n",
    "np.mean(c)"
   ]
  },
  {
   "cell_type": "code",
   "execution_count": 20,
   "metadata": {},
   "outputs": [
    {
     "name": "stdout",
     "output_type": "stream",
     "text": [
      "8.8\n"
     ]
    }
   ],
   "source": [
    "# 2. Find the mean of first 10 Fibonacci numbers (Use a for loop to create 10 Fibonacci series)\n",
    "\n",
    "fib_num = []\n",
    "f1=0\n",
    "f2=0\n",
    "for i in range(0,10):\n",
    "    if i<= 1:\n",
    "        fib_num.append(i)\n",
    "        f2=i\n",
    "    else:\n",
    "        fib_num.append(f1+f2)\n",
    "        f2 = f1+f2\n",
    "        f1 = f2-f1\n",
    "print(np.mean(fib_num))"
   ]
  },
  {
   "cell_type": "code",
   "execution_count": 23,
   "metadata": {},
   "outputs": [
    {
     "name": "stdout",
     "output_type": "stream",
     "text": [
      "Mean is:  5.6 \n",
      "Median is:  5\n"
     ]
    }
   ],
   "source": [
    "# 3.Find the mean and median of first 5 prime numbers.\n",
    "\n",
    "prime_numbers = [2,3,5,7,11]\n",
    "mean = np.mean(prime_numbers)\n",
    "median = 5\n",
    "print(\"Mean is: \",mean,\"\\nMedian is: \",median)\n",
    "        "
   ]
  },
  {
   "cell_type": "code",
   "execution_count": null,
   "metadata": {},
   "outputs": [],
   "source": [
    "# 4. The mean of 8, 11, 6, 14, x and 13 is 66. Find the value of the observation x."
   ]
  },
  {
   "cell_type": "markdown",
   "metadata": {},
   "source": [
    " 4. The mean of 8, 11, 6, 14, x and 13 is 66. Find the value of the observation x.\n",
    "    \n",
    "    8+11+6+14+ X +13 = 66*6 = 396\n",
    "    \n",
    "    52 + X = 396  => X = 344"
   ]
  },
  {
   "cell_type": "code",
   "execution_count": 4,
   "metadata": {},
   "outputs": [],
   "source": [
    "# 5. The mean of 6, 8, x + 2, 10, 2x - 1, and 2 is 9. Find the value of x in the data."
   ]
  },
  {
   "cell_type": "markdown",
   "metadata": {},
   "source": [
    " 6 + 8 + (X+2) + 10 + (2X-1) + 2 = 9*6 = 54\n",
    " 27 + 3X = 54  => 3X = 27  => x = 9"
   ]
  },
  {
   "cell_type": "code",
   "execution_count": 38,
   "metadata": {},
   "outputs": [
    {
     "name": "stdout",
     "output_type": "stream",
     "text": [
      "   Age  Count\n",
      "0   12      5\n",
      "1   10      3\n",
      "2   15      2\n",
      "3   14      6\n",
      "4    8      4\n",
      "\n",
      "Mean of above distribution is:  11.8\n",
      "\n",
      "****************************************************************\n",
      "\n",
      "   Marks  Students\n",
      "0     25         8\n",
      "1     30        12\n",
      "2     15        10\n",
      "3     20         6\n",
      "4     24         4\n",
      "\n",
      "Mean of above distribution is:  23.15\n"
     ]
    }
   ],
   "source": [
    "# 6. Find the mean of the following distribution.\n",
    "\n",
    "# a) The age of 20 boys in a locality is given below\n",
    "\n",
    "import pandas as pd\n",
    "\n",
    "\n",
    "data = [[12,5],[10,3],[15,2],[14,6],[8,4]]\n",
    "boys_age = pd.DataFrame(data,columns=[\"Age\",\"Count\"]) \n",
    "print(boys_age)\n",
    "\n",
    "# sum_count = sum(boys_age[\"Count\"])\n",
    "# print(sum_count)\n",
    "# print(sum(boys_age[\"Count\"]* boys_age[\"Age\"]))\n",
    "\n",
    "print(\"\\nMean of above distribution is: \",sum(boys_age[\"Count\"]* boys_age[\"Age\"])/sum(boys_age[\"Count\"]))\n",
    "\n",
    "print(\"\\n****************************************************************\\n\")\n",
    "# b) Marks obtained by 40 students in an exam are given below\n",
    "\n",
    "\n",
    "\n",
    "data = [[25,8],[30,12],[15,10],[20,6],[24,4]]\n",
    "marks_students = pd.DataFrame(data,columns=[\"Marks\",\"Students\"]) \n",
    "print(marks_students)\n",
    "\n",
    "print(\"\\nMean of above distribution is: \",sum(marks_students[\"Marks\"]* marks_students[\"Students\"])/sum(marks_students[\"Students\"]))"
   ]
  },
  {
   "cell_type": "code",
   "execution_count": null,
   "metadata": {},
   "outputs": [],
   "source": [
    "# 7. Find the mode of the following data"
   ]
  },
  {
   "cell_type": "code",
   "execution_count": 41,
   "metadata": {},
   "outputs": [
    {
     "name": "stdout",
     "output_type": "stream",
     "text": [
      "8     4\n",
      "12    2\n",
      "9     2\n",
      "11    1\n",
      "10    1\n",
      "4     1\n",
      "1     1\n",
      "Name: Numbers, dtype: int64\n",
      "\n",
      "\n",
      "8 occured more number of times, hence mode is 8\n",
      "\n",
      "****************************************************************\n",
      "\n",
      "17    3\n",
      "15    2\n",
      "22    2\n",
      "29    1\n",
      "24    1\n",
      "19    1\n",
      "Name: Numbers, dtype: int64\n",
      "\n",
      "\n",
      "17 occured more number of times, hence mode is 17\n",
      "\n",
      "****************************************************************\n",
      "\n",
      "3     3\n",
      "2     2\n",
      "1     2\n",
      "0     2\n",
      "42    1\n",
      "5     1\n",
      "4     1\n",
      "Name: Numbers, dtype: int64\n",
      "\n",
      "\n",
      "3 occured more number of times, hence mode is 3\n",
      "\n",
      "****************************************************************\n",
      "\n",
      "9    1\n",
      "8    1\n",
      "7    1\n",
      "5    1\n",
      "4    1\n",
      "3    1\n",
      "2    1\n",
      "1    1\n",
      "Name: Numbers, dtype: int64\n",
      "\n",
      "\n",
      "No number appeared more than once, hence No mode\n"
     ]
    }
   ],
   "source": [
    "# 7. Find the mode of the following data\n",
    "\n",
    "# a) 12, 8, 4, 8, 1, 8, 9, 11, 9, 10, 12, 8\n",
    "\n",
    "data = [12, 8, 4, 8, 1, 8, 9, 11, 9, 10, 12, 8]\n",
    "df = pd.DataFrame(data,columns=[\"Numbers\"])\n",
    "print(df[\"Numbers\"].value_counts())\n",
    "print(\"\\n\\n8 occured more number of times, hence mode is 8\")\n",
    "\n",
    "\n",
    "print(\"\\n****************************************************************\\n\")\n",
    "# b) 15, 22, 17, 19, 22, 17, 29, 24, 17, 15\n",
    "\n",
    "data = [15, 22, 17, 19, 22, 17, 29, 24, 17, 15]\n",
    "df = pd.DataFrame(data,columns=[\"Numbers\"])\n",
    "print(df[\"Numbers\"].value_counts())\n",
    "print(\"\\n\\n17 occured more number of times, hence mode is 17\")\n",
    "\n",
    "\n",
    "print(\"\\n****************************************************************\\n\")\n",
    "# c) 0, 3, 2, 1, 3, 5, 4, 3, 42, 1, 2, 0\n",
    "\n",
    "data = [0, 3, 2, 1, 3, 5, 4, 3, 42, 1, 2, 0]\n",
    "df = pd.DataFrame(data,columns=[\"Numbers\"])\n",
    "print(df[\"Numbers\"].value_counts())\n",
    "print(\"\\n\\n3 occured more number of times, hence mode is 3\")\n",
    "\n",
    "print(\"\\n****************************************************************\\n\")\n",
    "# d) 1, 7, 2, 4, 5, 9, 8, 3\n",
    "\n",
    "data = [1, 7, 2, 4, 5, 9, 8, 3]\n",
    "df = pd.DataFrame(data,columns=[\"Numbers\"])\n",
    "print(df[\"Numbers\"].value_counts())\n",
    "print(\"\\n\\nNo number appeared more than once, hence No mode\")"
   ]
  },
  {
   "cell_type": "code",
   "execution_count": 42,
   "metadata": {},
   "outputs": [],
   "source": [
    "# 8. The following observations are arranged in ascending order. The median of the data is 25 . Find the value of x.\n",
    "\n",
    "# 17, x+24, x+7, 35, 36, 46"
   ]
  },
  {
   "cell_type": "markdown",
   "metadata": {},
   "source": [
    "Median is the middle number if series is of odd length and avg of middle 2 if series is of even length\n",
    "\n",
    "The above series is arranged in ascending order and there are 6 numbers in the series\n",
    "\n",
    "Hence median is X+7 + 35 = 50  => X = 8\n",
    "\n",
    " X+ 24 is greater than x+7  and x+7(15) is less than 17, Which contradicts the question\n",
    "    \n"
   ]
  },
  {
   "cell_type": "code",
   "execution_count": 43,
   "metadata": {},
   "outputs": [],
   "source": [
    "# 9. In the above problem, how would you approach the problem if the numbers are not in ascending order ? \n",
    "# What are possible values of X then?"
   ]
  },
  {
   "cell_type": "markdown",
   "metadata": {},
   "source": [
    "If they are not in ascending order\n",
    "Series is of even length so median is avg of middle 2 numbers\n",
    "median is not present in the known values of series, hence median will be one of them\n",
    "\n",
    "1) Both less than 17\n",
    "\n",
    " median is (17+35)/2 = 26 != 25 , hence not possible\n",
    " \n",
    "2) if any one of them or both are greater than 17 median will be more than 26 hence not possible"
   ]
  },
  {
   "cell_type": "code",
   "execution_count": 45,
   "metadata": {},
   "outputs": [
    {
     "name": "stdout",
     "output_type": "stream",
     "text": [
      "Uses mean for scenario in A\n",
      "Depends!!!\n",
      "Uses mean for scenario in C\n",
      "Uses mode for scenario in D\n"
     ]
    }
   ],
   "source": [
    "# 10. In which of these situations would you use the mode to measure the central tendency of the data.\n",
    "\n",
    "# a) Justin records the temperature at noon every day for two weeks and wants to know the temperature of a 'typical' day.\n",
    "\n",
    "print(\"Uses mean for scenario in A\")\n",
    "\n",
    "# b) Would you use the mean in all of these situations?\n",
    "\n",
    "print(\"Depends!!!\")\n",
    "\n",
    "# c) Juliana measures the height of all the girls on her soccer team and wants to know the typical height of a soccer player.\n",
    "\n",
    "print(\"Uses mean for scenario in C\")\n",
    "\n",
    "# d) Sam asks the students in her class to identify their favourite colour and wants to know which colour is the most common.\n",
    "\n",
    "print(\"Uses mode for scenario in D\")\n",
    "\n",
    "\n"
   ]
  },
  {
   "cell_type": "code",
   "execution_count": null,
   "metadata": {},
   "outputs": [],
   "source": []
  }
 ],
 "metadata": {
  "kernelspec": {
   "display_name": "Python 3",
   "language": "python",
   "name": "python3"
  },
  "language_info": {
   "codemirror_mode": {
    "name": "ipython",
    "version": 3
   },
   "file_extension": ".py",
   "mimetype": "text/x-python",
   "name": "python",
   "nbconvert_exporter": "python",
   "pygments_lexer": "ipython3",
   "version": "3.7.6"
  }
 },
 "nbformat": 4,
 "nbformat_minor": 4
}
