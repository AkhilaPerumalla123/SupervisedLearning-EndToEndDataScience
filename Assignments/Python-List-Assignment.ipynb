{
 "cells": [
  {
   "cell_type": "code",
   "execution_count": 1,
   "metadata": {},
   "outputs": [],
   "source": [
    "AI_companies = [\"Amazon\", \"Facebook\", \"HiSilicon\", \"Google\", \"Apple\", \"Microsoft\", \"SenseTime\"]"
   ]
  },
  {
   "cell_type": "code",
   "execution_count": 2,
   "metadata": {},
   "outputs": [
    {
     "name": "stdout",
     "output_type": "stream",
     "text": [
      "['Amazon', 'Apple', 'Facebook', 'Google', 'HiSilicon', 'Microsoft', 'SenseTime']\n"
     ]
    }
   ],
   "source": [
    "#Sorting a list in ascending order\n",
    "AI_companies.sort()\n",
    "print(AI_companies)"
   ]
  },
  {
   "cell_type": "code",
   "execution_count": 3,
   "metadata": {},
   "outputs": [
    {
     "name": "stdout",
     "output_type": "stream",
     "text": [
      "['SenseTime', 'Microsoft', 'HiSilicon', 'Google', 'Facebook', 'Apple', 'Amazon']\n"
     ]
    }
   ],
   "source": [
    "#Sorting the list in descending order\n",
    "AI_companies.sort(reverse = True)\n",
    "print(AI_companies)"
   ]
  },
  {
   "cell_type": "code",
   "execution_count": 4,
   "metadata": {},
   "outputs": [
    {
     "name": "stdout",
     "output_type": "stream",
     "text": [
      "['SenseTime', 'Microsoft', 'HiSilicon', 'Google', 'Facebook', 'Apple', 'Amazon', 'Nvidia', 'OpenAI', 'Qualcomm', 'Reliance']\n"
     ]
    }
   ],
   "source": [
    "#Adding multiples elements at once\n",
    "AI_companies.extend(['Nvidia', 'OpenAI' , 'Qualcomm','Reliance' ])\n",
    "print(AI_companies)"
   ]
  },
  {
   "cell_type": "code",
   "execution_count": 5,
   "metadata": {},
   "outputs": [
    {
     "name": "stdout",
     "output_type": "stream",
     "text": [
      "['sensetime', 'microsoft', 'hisilicon', 'google', 'facebook', 'apple', 'amazon', 'nvidia', 'openai', 'qualcomm', 'reliance']\n"
     ]
    }
   ],
   "source": [
    "AI_companies_lower = [comp.lower() for comp in AI_companies]\n",
    "print(AI_companies_lower)"
   ]
  },
  {
   "cell_type": "code",
   "execution_count": 6,
   "metadata": {},
   "outputs": [
    {
     "name": "stdout",
     "output_type": "stream",
     "text": [
      "['SenseTime', 'Microsoft', 'HiSilicon', 'Google', 'Facebook', 'Apple', 'Amazon', 'Nvidia', 'OpenAI', 'Qualcomm']\n"
     ]
    }
   ],
   "source": [
    "# remove Reliance from the list\n",
    "AI_companies.remove(\"Reliance\")\n",
    "print(AI_companies)"
   ]
  },
  {
   "cell_type": "code",
   "execution_count": 7,
   "metadata": {},
   "outputs": [
    {
     "name": "stdout",
     "output_type": "stream",
     "text": [
      "['SenseTime', 'HiSilicon', 'Apple', 'Amazon', 'Nvidia', 'OpenAI', 'Qualcomm']\n"
     ]
    }
   ],
   "source": [
    "# remove multiple companies from the list\n",
    "AI_companies = [comp for comp in AI_companies if comp not in ['Facebook', 'Google', 'Microsoft']]\n",
    "print(AI_companies)"
   ]
  },
  {
   "cell_type": "code",
   "execution_count": null,
   "metadata": {},
   "outputs": [],
   "source": []
  }
 ],
 "metadata": {
  "kernelspec": {
   "display_name": "Python 3",
   "language": "python",
   "name": "python3"
  },
  "language_info": {
   "codemirror_mode": {
    "name": "ipython",
    "version": 3
   },
   "file_extension": ".py",
   "mimetype": "text/x-python",
   "name": "python",
   "nbconvert_exporter": "python",
   "pygments_lexer": "ipython3",
   "version": "3.7.6"
  }
 },
 "nbformat": 4,
 "nbformat_minor": 4
}
