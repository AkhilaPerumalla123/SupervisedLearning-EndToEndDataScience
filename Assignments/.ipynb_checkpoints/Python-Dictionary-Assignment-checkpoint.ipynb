{
 "cells": [
  {
   "cell_type": "code",
   "execution_count": 1,
   "metadata": {},
   "outputs": [
    {
     "name": "stdout",
     "output_type": "stream",
     "text": [
      "{'Apple': 0.25, 'Sugar': 0.5, 'Rice': 2.5, 'Milk': 2.5, 'Eggs': 1}\n"
     ]
    }
   ],
   "source": [
    "##  In the weekend , I purchased 250g of apple, 500g of sugar, 2.5 kg of rice, 2.5 litres of milk and finally 1 dozen of egg.\n",
    "\n",
    "# groceries dictionary with quantity in units of kg, litre, dozen\n",
    "\n",
    "groceries = {\"Apple\":.25,\"Sugar\":.5,\"Rice\":2.5,\"Milk\":2.5,\"Eggs\":1}\n",
    "\n",
    "## just for display purpose \n",
    "units = {\"Apple\":\"kg\",\"Sugar\":\"kg\",\"Rice\":\"kg\",\"Milk\":\"l\",\"Eggs\":\"dozen\"}\n",
    "\n",
    "# create a dictionary from above information\n",
    "print(groceries)"
   ]
  },
  {
   "cell_type": "code",
   "execution_count": 2,
   "metadata": {},
   "outputs": [
    {
     "name": "stdout",
     "output_type": "stream",
     "text": [
      "{'Apple': 0.25, 'Sugar': 0.5, 'Rice': 2.5, 'Milk': 2.5, 'Eggs': 1, 'Atta': 1}\n"
     ]
    }
   ],
   "source": [
    "# Adding an element to Dictionary\n",
    "groceries[\"Atta\"]=1\n",
    "units[\"Atta\"]=\"kg\"\n",
    "print(groceries)"
   ]
  },
  {
   "cell_type": "code",
   "execution_count": 3,
   "metadata": {},
   "outputs": [
    {
     "name": "stdout",
     "output_type": "stream",
     "text": [
      "{'Apple': 0.25, 'Sugar': 0.5, 'Rice': 1, 'Milk': 2.5, 'Eggs': 1, 'Atta': 1}\n"
     ]
    }
   ],
   "source": [
    "# updating dictionary elements\n",
    "groceries[\"Rice\"]=1\n",
    "print(groceries)"
   ]
  },
  {
   "cell_type": "code",
   "execution_count": 4,
   "metadata": {},
   "outputs": [
    {
     "name": "stdout",
     "output_type": "stream",
     "text": [
      "Apple  :  0.25 kg\n",
      "Sugar  :  0.5 kg\n",
      "Rice  :  1 kg\n",
      "Milk  :  2.5 l\n",
      "Eggs  :  1 dozen\n",
      "Atta  :  1 kg\n"
     ]
    }
   ],
   "source": [
    "# listing elements using for loop\n",
    "for item in groceries:\n",
    "    print(item,\" : \",groceries[item],units[item])"
   ]
  },
  {
   "cell_type": "code",
   "execution_count": 5,
   "metadata": {},
   "outputs": [
    {
     "name": "stdout",
     "output_type": "stream",
     "text": [
      "Apple  :  0.25 kg --> 55.0\n",
      "Sugar  :  0.5 kg --> 21.5\n",
      "Rice  :  1 kg --> 45\n",
      "Milk  :  2.5 l --> 75.0\n",
      "Eggs  :  1 dozen --> 60\n",
      "Atta  :  1 kg --> 40\n",
      "Total-------------------> 296.5\n"
     ]
    }
   ],
   "source": [
    "# creating dictionary for prices\n",
    "\n",
    "prices = {\"Apple\":220,\"Sugar\":43,\"Rice\":45,\"Milk\":30,\"Eggs\":60,\"Atta\":40}\n",
    "\n",
    "Total =0\n",
    "# printing bill\n",
    "for item in groceries:\n",
    "    print(item,\" : \",groceries[item],units[item],\"-->\",prices[item]*groceries[item])\n",
    "    Total+=prices[item]*groceries[item]\n",
    "print(\"Total------------------->\",Total)\n"
   ]
  },
  {
   "cell_type": "code",
   "execution_count": null,
   "metadata": {},
   "outputs": [],
   "source": []
  }
 ],
 "metadata": {
  "kernelspec": {
   "display_name": "Python 3",
   "language": "python",
   "name": "python3"
  },
  "language_info": {
   "codemirror_mode": {
    "name": "ipython",
    "version": 3
   },
   "file_extension": ".py",
   "mimetype": "text/x-python",
   "name": "python",
   "nbconvert_exporter": "python",
   "pygments_lexer": "ipython3",
   "version": "3.7.6"
  }
 },
 "nbformat": 4,
 "nbformat_minor": 4
}
