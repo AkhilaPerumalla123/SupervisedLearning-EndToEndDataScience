{
 "cells": [
  {
   "cell_type": "code",
   "execution_count": 1,
   "metadata": {},
   "outputs": [],
   "source": [
    "k = \" I am very keen in building up my career in Data Science, but not sure from where to start. If I search the web it throws me thousands of articles, few are relevant others make me confused, again I come around to the same page. Supervised has provided me a good platform to remove all such qualms which were wrangling in my mind\""
   ]
  },
  {
   "cell_type": "code",
   "execution_count": 2,
   "metadata": {},
   "outputs": [
    {
     "name": "stdout",
     "output_type": "stream",
     "text": [
      "Length of String k is :  328\n"
     ]
    }
   ],
   "source": [
    "# length of String\n",
    "print(\"Length of String k is : \",len(k))"
   ]
  },
  {
   "cell_type": "code",
   "execution_count": 3,
   "metadata": {},
   "outputs": [
    {
     "name": "stdout",
     "output_type": "stream",
     "text": [
      " i am very keen in building up my career in data science, but not sure from where to start. if i search the web it throws me thousands of articles, few are relevant others make me confused, again i come around to the same page. supervised has provided me a good platform to remove all such qualms which were wrangling in my mind\n"
     ]
    }
   ],
   "source": [
    "k_lower = k.lower()\n",
    "print(k_lower)"
   ]
  },
  {
   "cell_type": "code",
   "execution_count": 4,
   "metadata": {},
   "outputs": [
    {
     "name": "stdout",
     "output_type": "stream",
     "text": [
      " I am very keen in building up my career in Data Science but not sure from where to start If I search the web it throws me thousands of articles few are relevant others make me confused again I come around to the same page Supervised has provided me a good platform to remove all such qualms which were wrangling in my mind\n"
     ]
    }
   ],
   "source": [
    "# to remove punctuations in a string\n",
    "import string\n",
    "k_no_punc = k\n",
    "for c in string.punctuation:\n",
    "    k_no_punc= k_no_punc.replace(c,\"\")\n",
    "print(k_no_punc)"
   ]
  },
  {
   "cell_type": "code",
   "execution_count": 5,
   "metadata": {},
   "outputs": [
    {
     "name": "stdout",
     "output_type": "stream",
     "text": [
      "44\n"
     ]
    }
   ],
   "source": [
    "## index of Data Science\n",
    "print(k.index(\"Data Science\"))"
   ]
  },
  {
   "cell_type": "code",
   "execution_count": 6,
   "metadata": {},
   "outputs": [
    {
     "name": "stdout",
     "output_type": "stream",
     "text": [
      " frequency of \" all \" in k is :  1\n",
      " frequency of \" career \" in k is :  1\n",
      " frequency of \" provided \" in k is :  1\n",
      " frequency of \" come \" in k is :  1\n",
      " frequency of \" good \" in k is :  1\n",
      " frequency of \" me \" in k is :  5\n",
      " frequency of \" not \" in k is :  1\n",
      " frequency of \" again \" in k is :  1\n",
      " frequency of \" from \" in k is :  1\n",
      " frequency of \" up \" in k is :  2\n",
      " frequency of \" qualms \" in k is :  1\n",
      " frequency of \" Supervised \" in k is :  1\n",
      " frequency of \" mind \" in k is :  1\n",
      " frequency of \" remove \" in k is :  1\n",
      " frequency of \" keen \" in k is :  1\n",
      " frequency of \" to \" in k is :  3\n",
      " frequency of \" Science \" in k is :  1\n",
      " frequency of \" few \" in k is :  1\n",
      " frequency of \" in \" in k is :  7\n",
      " frequency of \" same \" in k is :  1\n",
      " frequency of \" building \" in k is :  1\n",
      " frequency of \" which \" in k is :  1\n",
      " frequency of \" were \" in k is :  1\n",
      " frequency of \" start \" in k is :  1\n",
      " frequency of \" make \" in k is :  1\n",
      " frequency of \" has \" in k is :  1\n",
      " frequency of \" platform \" in k is :  1\n",
      " frequency of \" but \" in k is :  1\n",
      " frequency of \" search \" in k is :  1\n",
      " frequency of \" articles \" in k is :  1\n",
      " frequency of \" it \" in k is :  1\n",
      " frequency of \" am \" in k is :  2\n",
      " frequency of \" Data \" in k is :  1\n",
      " frequency of \" others \" in k is :  1\n",
      " frequency of \" such \" in k is :  1\n",
      " frequency of \" a \" in k is :  22\n",
      " frequency of \" wrangling \" in k is :  1\n",
      " frequency of \" throws \" in k is :  1\n",
      " frequency of \" are \" in k is :  2\n",
      " frequency of \" very \" in k is :  1\n",
      " frequency of \" I \" in k is :  4\n",
      " frequency of \" web \" in k is :  1\n",
      " frequency of \" of \" in k is :  1\n",
      " frequency of \" around \" in k is :  1\n",
      " frequency of \" page \" in k is :  1\n",
      " frequency of \" relevant \" in k is :  1\n",
      " frequency of \" confused \" in k is :  1\n",
      " frequency of \" my \" in k is :  2\n",
      " frequency of \" where \" in k is :  1\n",
      " frequency of \" sure \" in k is :  1\n",
      " frequency of \" If \" in k is :  1\n",
      " frequency of \" the \" in k is :  3\n",
      " frequency of \" thousands \" in k is :  1\n"
     ]
    }
   ],
   "source": [
    "## To count the frequency of each words in a given String\n",
    "# 1) Removing punctuations in a string using above method\n",
    "# 2) Finding unique words in the given big string\n",
    "# 3) Count no of occurences of each unique String\n",
    "\n",
    "u_words_k = set()\n",
    "for w in k_no_punc.split():\n",
    "    u_words_k.add(w)\n",
    "# print(u_words_k)\n",
    "\n",
    "# count occurences of word in a string\n",
    "\n",
    "for word in u_words_k:\n",
    "    print(\" frequency of \\\"\",word,\"\\\" in k is : \",k_no_punc.count(word))\n"
   ]
  },
  {
   "cell_type": "code",
   "execution_count": 7,
   "metadata": {},
   "outputs": [
    {
     "name": "stdout",
     "output_type": "stream",
     "text": [
      "{'a', 'me', 'are', 'up', 'I', 'in', 'my', 'am', 'to', 'the'}\n"
     ]
    }
   ],
   "source": [
    "## words whose frequency is more than 1\n",
    "# Adding into set only if frequency is > 1\n",
    "u_words_k = set()\n",
    "for w in k_no_punc.split():\n",
    "    if  k_no_punc.count(w) > 1:\n",
    "        u_words_k.add(w)\n",
    "print(u_words_k)"
   ]
  },
  {
   "cell_type": "code",
   "execution_count": 8,
   "metadata": {},
   "outputs": [
    {
     "data": {
      "text/plain": [
       "' I am very keen in building up my career in Data Science, but not sure from where to start. If I search the web it throws me thousands of articles, few are relevant others make me confused, again I come around to the same page. Unsupervised has provided me a good platform to remove all such qualms which were wrangling in my mind'"
      ]
     },
     "execution_count": 8,
     "metadata": {},
     "output_type": "execute_result"
    }
   ],
   "source": [
    "# string.replace to replace a substring in a given String\n",
    "k.replace(\"Supervised\",\"Unsupervised\")"
   ]
  },
  {
   "cell_type": "code",
   "execution_count": 9,
   "metadata": {},
   "outputs": [
    {
     "name": "stdout",
     "output_type": "stream",
     "text": [
      "[' I am very keen in building up my career in Data Science, but not sure from where to start', ' If I search the web it throws me thousands of articles, few are relevant others make me confused, again I come around to the same page', ' Supervised has provided me a good platform to remove all such qualms which were wrangling in my mind']\n"
     ]
    }
   ],
   "source": [
    "# Splitting of the string with a dot operator(.)\n",
    "k_split_dot = k.split(\".\")\n",
    "print(k_split_dot)\n"
   ]
  },
  {
   "cell_type": "code",
   "execution_count": 10,
   "metadata": {},
   "outputs": [
    {
     "data": {
      "text/plain": [
       "['Science ',\n",
       " 'sure ',\n",
       " 'where ',\n",
       " 'the ',\n",
       " 'me ',\n",
       " 'are ',\n",
       " 'make ',\n",
       " 'me ',\n",
       " 'come ',\n",
       " 'the ',\n",
       " 'same ',\n",
       " 'page ',\n",
       " 'me ',\n",
       " 'remove ',\n",
       " 'were ']"
      ]
     },
     "execution_count": 10,
     "metadata": {},
     "output_type": "execute_result"
    }
   ],
   "source": [
    "#Find the words from the string which ends with \"e\"\n",
    "# \\w is used for words \"\\w+e \" means words with letter e followed by space\n",
    "import re\n",
    "re.findall(\"\\w+e \",k_no_punc)"
   ]
  },
  {
   "cell_type": "code",
   "execution_count": 11,
   "metadata": {},
   "outputs": [
    {
     "name": "stdout",
     "output_type": "stream",
     "text": [
      "22\n"
     ]
    }
   ],
   "source": [
    "#Figure out number of a's used in the string.\n",
    "occur_a = k.count(\"a\")\n",
    "print(occur_a)"
   ]
  },
  {
   "cell_type": "code",
   "execution_count": null,
   "metadata": {},
   "outputs": [],
   "source": []
  }
 ],
 "metadata": {
  "kernelspec": {
   "display_name": "Python 3",
   "language": "python",
   "name": "python3"
  },
  "language_info": {
   "codemirror_mode": {
    "name": "ipython",
    "version": 3
   },
   "file_extension": ".py",
   "mimetype": "text/x-python",
   "name": "python",
   "nbconvert_exporter": "python",
   "pygments_lexer": "ipython3",
   "version": "3.7.6"
  }
 },
 "nbformat": 4,
 "nbformat_minor": 4
}
